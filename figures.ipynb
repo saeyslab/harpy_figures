{
 "cells": [
  {
   "cell_type": "code",
   "execution_count": 1,
   "metadata": {},
   "outputs": [],
   "source": [
    "import seaborn as sns\n",
    "import pandas as pd"
   ]
  },
  {
   "cell_type": "code",
   "execution_count": 2,
   "metadata": {},
   "outputs": [
    {
     "data": {
      "text/html": [
       "<div>\n",
       "<style scoped>\n",
       "    .dataframe tbody tr th:only-of-type {\n",
       "        vertical-align: middle;\n",
       "    }\n",
       "\n",
       "    .dataframe tbody tr th {\n",
       "        vertical-align: top;\n",
       "    }\n",
       "\n",
       "    .dataframe thead th {\n",
       "        text-align: right;\n",
       "    }\n",
       "</style>\n",
       "<table border=\"1\" class=\"dataframe\">\n",
       "  <thead>\n",
       "    <tr style=\"text-align: right;\">\n",
       "      <th></th>\n",
       "      <th>exit_code</th>\n",
       "      <th>command</th>\n",
       "      <th>logs_prefix</th>\n",
       "      <th>wall_clock_time</th>\n",
       "      <th>peak_rss</th>\n",
       "      <th>average_rss</th>\n",
       "      <th>peak_vsz</th>\n",
       "      <th>average_vsz</th>\n",
       "      <th>peak_pmem</th>\n",
       "      <th>average_pmem</th>\n",
       "      <th>peak_pcpu</th>\n",
       "      <th>average_pcpu</th>\n",
       "      <th>num_samples</th>\n",
       "      <th>num_reports</th>\n",
       "      <th>start_time</th>\n",
       "      <th>end_time</th>\n",
       "      <th>config_dataset</th>\n",
       "    </tr>\n",
       "  </thead>\n",
       "  <tbody>\n",
       "    <tr>\n",
       "      <th>0</th>\n",
       "      <td>2</td>\n",
       "      <td>python benchmark.py --dataset=data/dataset_0.zarr</td>\n",
       "      <td>.duct/logs/2025.02.26T16.19.57-2543548_</td>\n",
       "      <td>5.643819</td>\n",
       "      <td>521613312</td>\n",
       "      <td>2.858747e+08</td>\n",
       "      <td>1503252480</td>\n",
       "      <td>9.718285e+08</td>\n",
       "      <td>0.1</td>\n",
       "      <td>0.036364</td>\n",
       "      <td>94.4</td>\n",
       "      <td>70.900000</td>\n",
       "      <td>11</td>\n",
       "      <td>7</td>\n",
       "      <td>1.740583e+09</td>\n",
       "      <td>1.740583e+09</td>\n",
       "      <td>data/dataset_0.zarr</td>\n",
       "    </tr>\n",
       "    <tr>\n",
       "      <th>1</th>\n",
       "      <td>2</td>\n",
       "      <td>python benchmark.py --dataset=data/dataset_1.zarr</td>\n",
       "      <td>.duct/logs/2025.02.26T16.20.03-2543689_</td>\n",
       "      <td>4.837377</td>\n",
       "      <td>520458240</td>\n",
       "      <td>3.279696e+08</td>\n",
       "      <td>1501298688</td>\n",
       "      <td>1.079869e+09</td>\n",
       "      <td>0.1</td>\n",
       "      <td>0.040000</td>\n",
       "      <td>107.0</td>\n",
       "      <td>81.070000</td>\n",
       "      <td>10</td>\n",
       "      <td>6</td>\n",
       "      <td>1.740583e+09</td>\n",
       "      <td>1.740583e+09</td>\n",
       "      <td>data/dataset_1.zarr</td>\n",
       "    </tr>\n",
       "    <tr>\n",
       "      <th>2</th>\n",
       "      <td>0</td>\n",
       "      <td>python benchmark.py --dataset=data/dataset_0.zarr</td>\n",
       "      <td>.duct/logs/2025.02.26T16.20.52-2544129_</td>\n",
       "      <td>13.117721</td>\n",
       "      <td>824573952</td>\n",
       "      <td>5.639296e+08</td>\n",
       "      <td>3870625792</td>\n",
       "      <td>1.842429e+09</td>\n",
       "      <td>0.2</td>\n",
       "      <td>0.092000</td>\n",
       "      <td>107.0</td>\n",
       "      <td>93.084000</td>\n",
       "      <td>25</td>\n",
       "      <td>14</td>\n",
       "      <td>1.740583e+09</td>\n",
       "      <td>1.740583e+09</td>\n",
       "      <td>data/dataset_0.zarr</td>\n",
       "    </tr>\n",
       "    <tr>\n",
       "      <th>3</th>\n",
       "      <td>0</td>\n",
       "      <td>python benchmark.py --dataset=data/dataset_1.zarr</td>\n",
       "      <td>.duct/logs/2025.02.26T16.21.05-2544507_</td>\n",
       "      <td>12.142494</td>\n",
       "      <td>825569280</td>\n",
       "      <td>5.558044e+08</td>\n",
       "      <td>3773976576</td>\n",
       "      <td>1.774968e+09</td>\n",
       "      <td>0.2</td>\n",
       "      <td>0.091304</td>\n",
       "      <td>108.0</td>\n",
       "      <td>88.295652</td>\n",
       "      <td>23</td>\n",
       "      <td>13</td>\n",
       "      <td>1.740583e+09</td>\n",
       "      <td>1.740583e+09</td>\n",
       "      <td>data/dataset_1.zarr</td>\n",
       "    </tr>\n",
       "    <tr>\n",
       "      <th>4</th>\n",
       "      <td>0</td>\n",
       "      <td>python benchmark.py --dataset=data/dataset_2.zarr</td>\n",
       "      <td>.duct/logs/2025.02.26T16.21.17-2544682_</td>\n",
       "      <td>12.161388</td>\n",
       "      <td>849199104</td>\n",
       "      <td>5.623550e+08</td>\n",
       "      <td>3908239360</td>\n",
       "      <td>1.832831e+09</td>\n",
       "      <td>0.2</td>\n",
       "      <td>0.091304</td>\n",
       "      <td>160.0</td>\n",
       "      <td>99.704348</td>\n",
       "      <td>23</td>\n",
       "      <td>13</td>\n",
       "      <td>1.740583e+09</td>\n",
       "      <td>1.740583e+09</td>\n",
       "      <td>data/dataset_2.zarr</td>\n",
       "    </tr>\n",
       "  </tbody>\n",
       "</table>\n",
       "</div>"
      ],
      "text/plain": [
       "   exit_code                                            command  \\\n",
       "0          2  python benchmark.py --dataset=data/dataset_0.zarr   \n",
       "1          2  python benchmark.py --dataset=data/dataset_1.zarr   \n",
       "2          0  python benchmark.py --dataset=data/dataset_0.zarr   \n",
       "3          0  python benchmark.py --dataset=data/dataset_1.zarr   \n",
       "4          0  python benchmark.py --dataset=data/dataset_2.zarr   \n",
       "\n",
       "                               logs_prefix  wall_clock_time   peak_rss  \\\n",
       "0  .duct/logs/2025.02.26T16.19.57-2543548_         5.643819  521613312   \n",
       "1  .duct/logs/2025.02.26T16.20.03-2543689_         4.837377  520458240   \n",
       "2  .duct/logs/2025.02.26T16.20.52-2544129_        13.117721  824573952   \n",
       "3  .duct/logs/2025.02.26T16.21.05-2544507_        12.142494  825569280   \n",
       "4  .duct/logs/2025.02.26T16.21.17-2544682_        12.161388  849199104   \n",
       "\n",
       "    average_rss    peak_vsz   average_vsz  peak_pmem  average_pmem  peak_pcpu  \\\n",
       "0  2.858747e+08  1503252480  9.718285e+08        0.1      0.036364       94.4   \n",
       "1  3.279696e+08  1501298688  1.079869e+09        0.1      0.040000      107.0   \n",
       "2  5.639296e+08  3870625792  1.842429e+09        0.2      0.092000      107.0   \n",
       "3  5.558044e+08  3773976576  1.774968e+09        0.2      0.091304      108.0   \n",
       "4  5.623550e+08  3908239360  1.832831e+09        0.2      0.091304      160.0   \n",
       "\n",
       "   average_pcpu  num_samples  num_reports    start_time      end_time  \\\n",
       "0     70.900000           11            7  1.740583e+09  1.740583e+09   \n",
       "1     81.070000           10            6  1.740583e+09  1.740583e+09   \n",
       "2     93.084000           25           14  1.740583e+09  1.740583e+09   \n",
       "3     88.295652           23           13  1.740583e+09  1.740583e+09   \n",
       "4     99.704348           23           13  1.740583e+09  1.740583e+09   \n",
       "\n",
       "        config_dataset  \n",
       "0  data/dataset_0.zarr  \n",
       "1  data/dataset_1.zarr  \n",
       "2  data/dataset_0.zarr  \n",
       "3  data/dataset_1.zarr  \n",
       "4  data/dataset_2.zarr  "
      ]
     },
     "execution_count": 2,
     "metadata": {},
     "output_type": "execute_result"
    }
   ],
   "source": [
    "df = pd.read_csv('.duct/logs/summary.csv')\n",
    "df"
   ]
  },
  {
   "cell_type": "markdown",
   "metadata": {},
   "source": [
    "## Wall clock time"
   ]
  },
  {
   "cell_type": "code",
   "execution_count": 26,
   "metadata": {},
   "outputs": [],
   "source": [
    "# sns.lineplot(data=df, x=\"config_duration\", y=\"wall_clock_time\", err_style=\"bars\", errorbar=(\"se\", 2), marker='o')"
   ]
  },
  {
   "cell_type": "code",
   "execution_count": 4,
   "metadata": {},
   "outputs": [
    {
     "data": {
      "text/plain": [
       "<Axes: xlabel='config_dataset', ylabel='wall_clock_time'>"
      ]
     },
     "execution_count": 4,
     "metadata": {},
     "output_type": "execute_result"
    },
    {
     "data": {
      "image/png": "[encoded data removed]",
      "text/plain": [
       "<Figure size 640x480 with 1 Axes>"
      ]
     },
     "metadata": {},
     "output_type": "display_data"
    }
   ],
   "source": [
    "sns.barplot(data=df, x=\"config_dataset\", y=\"wall_clock_time\")"
   ]
  },
  {
   "cell_type": "code",
   "execution_count": 5,
   "metadata": {},
   "outputs": [
    {
     "data": {
      "text/plain": [
       "<Axes: xlabel='config_dataset', ylabel='peak_rss'>"
      ]
     },
     "execution_count": 5,
     "metadata": {},
     "output_type": "execute_result"
    },
    {
     "data": {
      "image/png": "[encoded data removed]",
      "text/plain": [
       "<Figure size 640x480 with 1 Axes>"
      ]
     },
     "metadata": {},
     "output_type": "display_data"
    }
   ],
   "source": [
    "sns.barplot(data=df, x=\"config_dataset\", y=\"peak_rss\")"
   ]
  }
 ],
 "metadata": {
  "kernelspec": {
   "display_name": "default",
   "language": "python",
   "name": "python3"
  },
  "language_info": {
   "codemirror_mode": {
    "name": "ipython",
    "version": 3
   },
   "file_extension": ".py",
   "mimetype": "text/x-python",
   "name": "python",
   "nbconvert_exporter": "python",
   "pygments_lexer": "ipython3",
   "version": "3.12.9"
  }
 },
 "nbformat": 4,
 "nbformat_minor": 2
}
