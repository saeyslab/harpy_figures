{
 "cells": [
  {
   "cell_type": "code",
   "execution_count": 24,
   "metadata": {},
   "outputs": [],
   "source": [
    "import seaborn as sns\n",
    "import pandas as pd"
   ]
  },
  {
   "cell_type": "code",
   "execution_count": 25,
   "metadata": {},
   "outputs": [
    {
     "data": {
      "text/html": [
       "<div>\n",
       "<style scoped>\n",
       "    .dataframe tbody tr th:only-of-type {\n",
       "        vertical-align: middle;\n",
       "    }\n",
       "\n",
       "    .dataframe tbody tr th {\n",
       "        vertical-align: top;\n",
       "    }\n",
       "\n",
       "    .dataframe thead th {\n",
       "        text-align: right;\n",
       "    }\n",
       "</style>\n",
       "<table border=\"1\" class=\"dataframe\">\n",
       "  <thead>\n",
       "    <tr style=\"text-align: right;\">\n",
       "      <th></th>\n",
       "      <th>exit_code</th>\n",
       "      <th>command</th>\n",
       "      <th>logs_prefix</th>\n",
       "      <th>wall_clock_time</th>\n",
       "      <th>peak_rss</th>\n",
       "      <th>average_rss</th>\n",
       "      <th>peak_vsz</th>\n",
       "      <th>average_vsz</th>\n",
       "      <th>peak_pmem</th>\n",
       "      <th>average_pmem</th>\n",
       "      <th>peak_pcpu</th>\n",
       "      <th>average_pcpu</th>\n",
       "      <th>num_samples</th>\n",
       "      <th>num_reports</th>\n",
       "      <th>start_time</th>\n",
       "      <th>end_time</th>\n",
       "      <th>config_duration</th>\n",
       "      <th>config_memory-size</th>\n",
       "      <th>config_method</th>\n",
       "    </tr>\n",
       "  </thead>\n",
       "  <tbody>\n",
       "    <tr>\n",
       "      <th>0</th>\n",
       "      <td>0</td>\n",
       "      <td>python test_script.py --duration=0.5 --memory-...</td>\n",
       "      <td>.duct/logs/2025.02.26T16.12.17-2540780_</td>\n",
       "      <td>0.777296</td>\n",
       "      <td>1060990976</td>\n",
       "      <td>8.083715e+08</td>\n",
       "      <td>1288097792</td>\n",
       "      <td>1.288098e+09</td>\n",
       "      <td>0.2</td>\n",
       "      <td>0.150000</td>\n",
       "      <td>26.0</td>\n",
       "      <td>8.666667</td>\n",
       "      <td>6</td>\n",
       "      <td>5</td>\n",
       "      <td>1.740583e+09</td>\n",
       "      <td>1.740583e+09</td>\n",
       "      <td>0.5</td>\n",
       "      <td>1000</td>\n",
       "      <td>0</td>\n",
       "    </tr>\n",
       "    <tr>\n",
       "      <th>1</th>\n",
       "      <td>0</td>\n",
       "      <td>python test_script.py --duration=0.5 --memory-...</td>\n",
       "      <td>.duct/logs/2025.02.26T16.12.18-2540859_</td>\n",
       "      <td>1.014529</td>\n",
       "      <td>2109566976</td>\n",
       "      <td>1.491431e+09</td>\n",
       "      <td>2336673792</td>\n",
       "      <td>2.336674e+09</td>\n",
       "      <td>0.5</td>\n",
       "      <td>0.350000</td>\n",
       "      <td>50.0</td>\n",
       "      <td>25.000000</td>\n",
       "      <td>8</td>\n",
       "      <td>6</td>\n",
       "      <td>1.740583e+09</td>\n",
       "      <td>1.740583e+09</td>\n",
       "      <td>0.5</td>\n",
       "      <td>1000</td>\n",
       "      <td>1000</td>\n",
       "    </tr>\n",
       "    <tr>\n",
       "      <th>2</th>\n",
       "      <td>0</td>\n",
       "      <td>python test_script.py --duration=0.5 --memory-...</td>\n",
       "      <td>.duct/logs/2025.02.26T16.12.19-2540938_</td>\n",
       "      <td>1.571532</td>\n",
       "      <td>3157880832</td>\n",
       "      <td>2.092971e+09</td>\n",
       "      <td>3385249792</td>\n",
       "      <td>3.385250e+09</td>\n",
       "      <td>0.8</td>\n",
       "      <td>0.523077</td>\n",
       "      <td>100.0</td>\n",
       "      <td>54.346154</td>\n",
       "      <td>13</td>\n",
       "      <td>9</td>\n",
       "      <td>1.740583e+09</td>\n",
       "      <td>1.740583e+09</td>\n",
       "      <td>0.5</td>\n",
       "      <td>1000</td>\n",
       "      <td>2000</td>\n",
       "    </tr>\n",
       "    <tr>\n",
       "      <th>3</th>\n",
       "      <td>0</td>\n",
       "      <td>python test_script.py --duration=0.5 --memory-...</td>\n",
       "      <td>.duct/logs/2025.02.26T16.12.21-2541010_</td>\n",
       "      <td>2.027468</td>\n",
       "      <td>4206714880</td>\n",
       "      <td>2.963268e+09</td>\n",
       "      <td>4433825792</td>\n",
       "      <td>4.433826e+09</td>\n",
       "      <td>1.1</td>\n",
       "      <td>0.756250</td>\n",
       "      <td>128.0</td>\n",
       "      <td>64.718750</td>\n",
       "      <td>16</td>\n",
       "      <td>11</td>\n",
       "      <td>1.740583e+09</td>\n",
       "      <td>1.740583e+09</td>\n",
       "      <td>0.5</td>\n",
       "      <td>1000</td>\n",
       "      <td>3000</td>\n",
       "    </tr>\n",
       "    <tr>\n",
       "      <th>4</th>\n",
       "      <td>0</td>\n",
       "      <td>python test_script.py --duration=0.5 --memory-...</td>\n",
       "      <td>.duct/logs/2025.02.26T16.12.23-2541118_</td>\n",
       "      <td>2.662214</td>\n",
       "      <td>5255290880</td>\n",
       "      <td>3.515204e+09</td>\n",
       "      <td>5482401792</td>\n",
       "      <td>5.482402e+09</td>\n",
       "      <td>1.4</td>\n",
       "      <td>0.909524</td>\n",
       "      <td>104.0</td>\n",
       "      <td>65.761905</td>\n",
       "      <td>21</td>\n",
       "      <td>14</td>\n",
       "      <td>1.740583e+09</td>\n",
       "      <td>1.740583e+09</td>\n",
       "      <td>0.5</td>\n",
       "      <td>1000</td>\n",
       "      <td>4000</td>\n",
       "    </tr>\n",
       "    <tr>\n",
       "      <th>5</th>\n",
       "      <td>0</td>\n",
       "      <td>python test_script.py --duration=0.5 --memory-...</td>\n",
       "      <td>.duct/logs/2025.02.26T16.12.26-2541201_</td>\n",
       "      <td>3.298251</td>\n",
       "      <td>6304112640</td>\n",
       "      <td>4.275776e+09</td>\n",
       "      <td>6530977792</td>\n",
       "      <td>6.530978e+09</td>\n",
       "      <td>1.7</td>\n",
       "      <td>1.107692</td>\n",
       "      <td>117.0</td>\n",
       "      <td>75.276923</td>\n",
       "      <td>26</td>\n",
       "      <td>18</td>\n",
       "      <td>1.740583e+09</td>\n",
       "      <td>1.740583e+09</td>\n",
       "      <td>0.5</td>\n",
       "      <td>1000</td>\n",
       "      <td>5000</td>\n",
       "    </tr>\n",
       "  </tbody>\n",
       "</table>\n",
       "</div>"
      ],
      "text/plain": [
       "   exit_code                                            command  \\\n",
       "0          0  python test_script.py --duration=0.5 --memory-...   \n",
       "1          0  python test_script.py --duration=0.5 --memory-...   \n",
       "2          0  python test_script.py --duration=0.5 --memory-...   \n",
       "3          0  python test_script.py --duration=0.5 --memory-...   \n",
       "4          0  python test_script.py --duration=0.5 --memory-...   \n",
       "5          0  python test_script.py --duration=0.5 --memory-...   \n",
       "\n",
       "                               logs_prefix  wall_clock_time    peak_rss  \\\n",
       "0  .duct/logs/2025.02.26T16.12.17-2540780_         0.777296  1060990976   \n",
       "1  .duct/logs/2025.02.26T16.12.18-2540859_         1.014529  2109566976   \n",
       "2  .duct/logs/2025.02.26T16.12.19-2540938_         1.571532  3157880832   \n",
       "3  .duct/logs/2025.02.26T16.12.21-2541010_         2.027468  4206714880   \n",
       "4  .duct/logs/2025.02.26T16.12.23-2541118_         2.662214  5255290880   \n",
       "5  .duct/logs/2025.02.26T16.12.26-2541201_         3.298251  6304112640   \n",
       "\n",
       "    average_rss    peak_vsz   average_vsz  peak_pmem  average_pmem  peak_pcpu  \\\n",
       "0  8.083715e+08  1288097792  1.288098e+09        0.2      0.150000       26.0   \n",
       "1  1.491431e+09  2336673792  2.336674e+09        0.5      0.350000       50.0   \n",
       "2  2.092971e+09  3385249792  3.385250e+09        0.8      0.523077      100.0   \n",
       "3  2.963268e+09  4433825792  4.433826e+09        1.1      0.756250      128.0   \n",
       "4  3.515204e+09  5482401792  5.482402e+09        1.4      0.909524      104.0   \n",
       "5  4.275776e+09  6530977792  6.530978e+09        1.7      1.107692      117.0   \n",
       "\n",
       "   average_pcpu  num_samples  num_reports    start_time      end_time  \\\n",
       "0      8.666667            6            5  1.740583e+09  1.740583e+09   \n",
       "1     25.000000            8            6  1.740583e+09  1.740583e+09   \n",
       "2     54.346154           13            9  1.740583e+09  1.740583e+09   \n",
       "3     64.718750           16           11  1.740583e+09  1.740583e+09   \n",
       "4     65.761905           21           14  1.740583e+09  1.740583e+09   \n",
       "5     75.276923           26           18  1.740583e+09  1.740583e+09   \n",
       "\n",
       "   config_duration  config_memory-size  config_method  \n",
       "0              0.5                1000              0  \n",
       "1              0.5                1000           1000  \n",
       "2              0.5                1000           2000  \n",
       "3              0.5                1000           3000  \n",
       "4              0.5                1000           4000  \n",
       "5              0.5                1000           5000  "
      ]
     },
     "execution_count": 25,
     "metadata": {},
     "output_type": "execute_result"
    }
   ],
   "source": [
    "df = pd.read_csv('.duct/logs/summary.csv')\n",
    "df"
   ]
  },
  {
   "cell_type": "markdown",
   "metadata": {},
   "source": [
    "## Wall clock time"
   ]
  },
  {
   "cell_type": "code",
   "execution_count": 26,
   "metadata": {},
   "outputs": [],
   "source": [
    "# sns.lineplot(data=df, x=\"config_duration\", y=\"wall_clock_time\", err_style=\"bars\", errorbar=(\"se\", 2), marker='o')"
   ]
  },
  {
   "cell_type": "code",
   "execution_count": 27,
   "metadata": {},
   "outputs": [
    {
     "data": {
      "text/plain": [
       "<Axes: xlabel='config_method', ylabel='wall_clock_time'>"
      ]
     },
     "execution_count": 27,
     "metadata": {},
     "output_type": "execute_result"
    },
    {
     "data": {
      "image/png": "[encoded data removed]",
      "text/plain": [
       "<Figure size 640x480 with 1 Axes>"
      ]
     },
     "metadata": {},
     "output_type": "display_data"
    }
   ],
   "source": [
    "sns.barplot(data=df, x=\"config_method\", y=\"wall_clock_time\")"
   ]
  },
  {
   "cell_type": "code",
   "execution_count": 28,
   "metadata": {},
   "outputs": [
    {
     "data": {
      "text/plain": [
       "<Axes: xlabel='config_method', ylabel='peak_rss'>"
      ]
     },
     "execution_count": 28,
     "metadata": {},
     "output_type": "execute_result"
    },
    {
     "data": {
      "image/png": "[encoded data removed]",
      "text/plain": [
       "<Figure size 640x480 with 1 Axes>"
      ]
     },
     "metadata": {},
     "output_type": "display_data"
    }
   ],
   "source": [
    "sns.barplot(data=df, x=\"config_method\", y=\"peak_rss\")"
   ]
  }
 ],
 "metadata": {
  "kernelspec": {
   "display_name": "default",
   "language": "python",
   "name": "python3"
  },
  "language_info": {
   "codemirror_mode": {
    "name": "ipython",
    "version": 3
   },
   "file_extension": ".py",
   "mimetype": "text/x-python",
   "name": "python",
   "nbconvert_exporter": "python",
   "pygments_lexer": "ipython3",
   "version": "3.12.9"
  }
 },
 "nbformat": 4,
 "nbformat_minor": 2
}
